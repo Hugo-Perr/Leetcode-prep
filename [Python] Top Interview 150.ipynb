{
 "cells": [
  {
   "cell_type": "markdown",
   "id": "9afb3e00",
   "metadata": {},
   "source": [
    "# Top Interview 150\n",
    "Must-do List for Interview Prep\n",
    "https://leetcode.com/studyplan/top-interview-150/"
   ]
  },
  {
   "cell_type": "markdown",
   "id": "83316eea",
   "metadata": {},
   "source": [
    "# \n",
    "***\n"
   ]
  },
  {
   "cell_type": "code",
   "execution_count": 41,
   "id": "6c552a5f",
   "metadata": {},
   "outputs": [],
   "source": [
    "from typing import List"
   ]
  },
  {
   "cell_type": "markdown",
   "id": "51448ea1",
   "metadata": {},
   "source": [
    "# EASY  \n",
    "   "
   ]
  },
  {
   "cell_type": "markdown",
   "id": "d98c1721",
   "metadata": {},
   "source": [
    "### 88. Merge Sorted Array"
   ]
  },
  {
   "cell_type": "markdown",
   "id": "083e19c6",
   "metadata": {},
   "source": [
    "You are given two integer arrays nums1 and nums2, sorted in non-decreasing order, and two integers m and n, representing the number of elements in nums1 and nums2 respectively.\n",
    "\n",
    "Merge nums1 and nums2 into a single array sorted in non-decreasing order.\n",
    "\n",
    "The final sorted array should not be returned by the function, but instead be stored inside the array nums1. To accommodate this, nums1 has a length of m + n, where the first m elements denote the elements that should be merged, and the last n elements are set to 0 and should be ignored. nums2 has a length of n.\n",
    "\n",
    "Follow up: Can you come up with an algorithm that runs in O(m + n) time?"
   ]
  },
  {
   "cell_type": "code",
   "execution_count": 19,
   "id": "abef7613",
   "metadata": {},
   "outputs": [
    {
     "name": "stdout",
     "output_type": "stream",
     "text": [
      "[1, 2, 2, 3, 5, 6]\n"
     ]
    }
   ],
   "source": [
    "from typing import List\n",
    "\n",
    "class Solution:\n",
    "    def merge(self, nums1: List[int], m: int, nums2: List[int], n: int) -> None:\n",
    "        \"\"\"\n",
    "        Do not return anything, modify nums1 in-place instead.\n",
    "        \"\"\"\n",
    "        nums1[m:] = nums2[:] \n",
    "        nums1.sort()\n",
    "\n",
    "# Test input\n",
    "nums1 = [1, 2, 3, 0, 0, 0]\n",
    "m = 3\n",
    "nums2 = [2, 5, 6]\n",
    "n = 3\n",
    "\n",
    "solution = Solution()\n",
    "solution.merge(nums1, m, nums2, n)\n",
    "print(nums1)  # Expected output: [1, 2, 2, 3, 5, 6]"
   ]
  },
  {
   "cell_type": "code",
   "execution_count": 16,
   "id": "9873246f",
   "metadata": {},
   "outputs": [
    {
     "name": "stdout",
     "output_type": "stream",
     "text": [
      "[1, 2, 2, 3, 5, 6]\n"
     ]
    }
   ],
   "source": [
    "# Test input\n",
    "nums1 = [1, 2, 3, 0, 0, 0]\n",
    "m = 3\n",
    "nums2 = [2, 5, 6]\n",
    "n = 3\n",
    "\n",
    "solution = Solution()\n",
    "solution.merge(nums1, m, nums2, n)\n",
    "print(nums1)  # Expected output: [1, 2, 2, 3, 5, 6]"
   ]
  },
  {
   "cell_type": "markdown",
   "id": "3a5c03fe",
   "metadata": {},
   "source": [
    "### 27. Remove Element"
   ]
  },
  {
   "cell_type": "markdown",
   "id": "f8e75246",
   "metadata": {},
   "source": [
    "Given an integer array nums and an integer val, remove all occurrences of val in nums in-place. The order of the elements may be changed. Then return the number of elements in nums which are not equal to val.\n",
    "\n",
    "Consider the number of elements in nums which are not equal to val be k, to get accepted, you need to do the following things:\n",
    "\n",
    "* Change the array nums such that the first k elements of nums contain the elements which are not equal to val. The remaining elements of nums are not important as well as the size of nums.\n",
    "\n",
    "* Return k."
   ]
  },
  {
   "cell_type": "code",
   "execution_count": 99,
   "id": "5f52bada",
   "metadata": {},
   "outputs": [
    {
     "name": "stdout",
     "output_type": "stream",
     "text": [
      "Return : 5\n",
      "List nums : [0, 1, 3, 0, 4, 101, 101, 101]\n"
     ]
    }
   ],
   "source": [
    "nums=[0,1,2,2,3,0,4,2]\n",
    "val=2\n",
    "\n",
    "i=0\n",
    "n=len(nums)\n",
    "countr = n\n",
    "\n",
    "while (i<=n-1):\n",
    "    if ((nums[i]==val)&(i<n-1)):\n",
    "        nums[i:] = nums[i+1:] + [101]\n",
    "        i=i-1\n",
    "        countr-=1\n",
    "    if ((nums[i]==val)&(i==n-1)):\n",
    "         nums[i] = [101]\n",
    "         i+=1\n",
    "         countr-=1\n",
    "    else:\n",
    "        i+=1\n",
    "\n",
    "print('Return :', countr)\n",
    "print('List nums :', nums)"
   ]
  },
  {
   "cell_type": "code",
   "execution_count": null,
   "id": "3031ad85",
   "metadata": {},
   "outputs": [],
   "source": []
  }
 ],
 "metadata": {
  "kernelspec": {
   "display_name": ".venv",
   "language": "python",
   "name": "python3"
  },
  "language_info": {
   "codemirror_mode": {
    "name": "ipython",
    "version": 3
   },
   "file_extension": ".py",
   "mimetype": "text/x-python",
   "name": "python",
   "nbconvert_exporter": "python",
   "pygments_lexer": "ipython3",
   "version": "3.9.6"
  }
 },
 "nbformat": 4,
 "nbformat_minor": 5
}
