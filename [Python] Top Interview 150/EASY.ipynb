{
 "cells": [
  {
   "cell_type": "markdown",
   "id": "9afb3e00",
   "metadata": {},
   "source": [
    "# Top Interview 150 - EASY problems\n",
    "Must-do List for Interview Prep\n",
    "https://leetcode.com/studyplan/top-interview-150/"
   ]
  },
  {
   "cell_type": "code",
   "execution_count": null,
   "id": "9b70b1e3",
   "metadata": {},
   "outputs": [],
   "source": [
    "# Text for Leetcode publication \n",
    "\n",
    "# [Top Interview 150]"
   ]
  },
  {
   "cell_type": "markdown",
   "id": "83316eea",
   "metadata": {},
   "source": [
    "# \n",
    "***\n"
   ]
  },
  {
   "cell_type": "code",
   "execution_count": 41,
   "id": "6c552a5f",
   "metadata": {},
   "outputs": [],
   "source": [
    "from typing import List"
   ]
  },
  {
   "cell_type": "markdown",
   "id": "51448ea1",
   "metadata": {},
   "source": [
    "# EASY  \n",
    "   "
   ]
  },
  {
   "cell_type": "code",
   "execution_count": 1,
   "id": "abef7613",
   "metadata": {},
   "outputs": [
    {
     "data": {
      "text/plain": [
       "[1, 2, 2, 3, 5, 6]"
      ]
     },
     "execution_count": 1,
     "metadata": {},
     "output_type": "execute_result"
    }
   ],
   "source": [
    "# 88. Merge Sorted Array\n",
    "\n",
    "# Test input\n",
    "nums1 = [1, 2, 3, 0, 0, 0]\n",
    "m = 3\n",
    "nums2 = [2, 5, 6]\n",
    "n = 3\n",
    "\n",
    "# Solution\n",
    "nums1[m:] = nums2[:] \n",
    "nums1.sort()\n",
    "nums1"
   ]
  },
  {
   "cell_type": "code",
   "execution_count": 2,
   "id": "5f52bada",
   "metadata": {},
   "outputs": [
    {
     "name": "stdout",
     "output_type": "stream",
     "text": [
      "Return : 5\n",
      "List nums : [0, 1, 3, 0, 4, 101, 101, 101]\n"
     ]
    }
   ],
   "source": [
    "# 27. Remove Element\n",
    "\n",
    "nums=[0,1,2,2,3,0,4,2]\n",
    "val=2\n",
    "\n",
    "i=0\n",
    "n=len(nums)\n",
    "countr = n\n",
    "\n",
    "while (i<=n-1):\n",
    "    if ((nums[i]==val)&(i<n-1)):\n",
    "        nums[i:] = nums[i+1:] + [101]\n",
    "        i=i-1\n",
    "        countr-=1\n",
    "    if ((nums[i]==val)&(i==n-1)):\n",
    "         nums[i] = [101]\n",
    "         i+=1\n",
    "         countr-=1\n",
    "    else:\n",
    "        i+=1\n",
    "\n",
    "print('Return :', countr)\n",
    "print('List nums :', nums)"
   ]
  },
  {
   "cell_type": "code",
   "execution_count": null,
   "id": "3d2d8dd2",
   "metadata": {},
   "outputs": [
    {
     "name": "stdout",
     "output_type": "stream",
     "text": [
      "nums :  [0, 0, 1, 1, 1, 2, 2, 3, 3, 4]\n",
      "k= 5\n",
      "nums :  [0, 1, 2, 3, 4, 2, 2, 3, 3, 4]\n"
     ]
    }
   ],
   "source": [
    "# 26. Remove Duplicates from Sorted Array\n",
    "\n",
    "\n",
    "def solution1(nums):\n",
    "    # Runtime: 66ms\n",
    "    # Memory: 19.8 MB\n",
    "    n = len(nums)\n",
    "    countr = n \n",
    "    i=1\n",
    "    if (n>1):\n",
    "        while (i<n): # max size of nums\n",
    "            \n",
    "            if ((nums[i] == nums[i-1])&(nums[i]!=101)): # in case of 2 occurences\n",
    "\n",
    "                if (i != n-1):\n",
    "                    nums[i:] = nums[i+1:] + [101]\n",
    "                    countr -= 1\n",
    "                    i-=1\n",
    "                else:\n",
    "                    nums[i] = 101\n",
    "                    countr -= 1\n",
    "            \n",
    "            i+=1\n",
    "    return countr\n",
    "\n",
    "# Runtime: 21ms, Memory:19.4 \n",
    "def solution2(nums):\n",
    "    # Runtime: \n",
    "    # Memory: 1\n",
    "    new = []\n",
    "    c = 0\n",
    "\n",
    "    for i in nums:\n",
    "        if i not in new:\n",
    "            new = new + [i]\n",
    "            c +=1\n",
    "            \n",
    "    nums[:c] = new\n",
    "    nums[c:] = [101]*(len(nums)-c)\n",
    "    return c\n",
    "\n",
    "# Runtime: 3ms, Memory:19.02\n",
    "# Here I replaced \"if i not in list\" by \"if i not in set\" (got from O(n2) to O(1)) \n",
    "# Also, instead of adding element to new list then replacing within nums, I change them on the way \n",
    "def solution3(nums):\n",
    "        new_set = set()\n",
    "        new = []\n",
    "\n",
    "        for i in nums:\n",
    "            if i not in new_set:\n",
    "                new_set.add(i)\n",
    "                new.append(i)\n",
    "\n",
    "        nums[:len(new)]=new\n",
    "        return len(new)\n",
    "\n",
    "\n",
    "nums=[0,0,1,1,1,2,2,3,3,4]\n",
    "print('nums : ', nums)\n",
    "k = solution3(nums)\n",
    "print('k=', k)\n",
    "print('nums : ', nums)"
   ]
  },
  {
   "cell_type": "code",
   "execution_count": null,
   "id": "6723cdbe",
   "metadata": {},
   "outputs": [
    {
     "name": "stdout",
     "output_type": "stream",
     "text": [
      "[1, 1, 1, 2, 2, 3]\n",
      "5\n",
      "[1, 1, 2, 2, 3]\n"
     ]
    }
   ],
   "source": [
    "# 80. Remove Duplicates from Sorted Array II\n",
    "\n",
    "def solution1(nums):\n",
    "    new_set = set()\n",
    "    new = []\n",
    "    temp = None\n",
    "\n",
    "    for i in nums:\n",
    "        if (i not in new_set):\n",
    "            new_set.add(i)\n",
    "            new.append(i)\n",
    "            temp=i\n",
    "        else:\n",
    "             if(i==temp):\n",
    "                new_set.add(i)\n",
    "                new.append(i)\n",
    "                temp=None\n",
    "    k = len(new)\n",
    "    nums[:k]=new\n",
    "    nums[k:]=[]\n",
    "\n",
    "    return k\n",
    "\n",
    "nums=[1,1,1,2,2,3]\n",
    "print(nums)\n",
    "k = solution1(nums)\n",
    "print(k)\n",
    "print(nums)\n"
   ]
  },
  {
   "cell_type": "code",
   "execution_count": null,
   "id": "65879231",
   "metadata": {},
   "outputs": [
    {
     "name": "stdout",
     "output_type": "stream",
     "text": [
      "Element 3 occures 2 times\n"
     ]
    }
   ],
   "source": [
    "# 169. Majority Element\n",
    "\n",
    "nums = [3,2,3]\n",
    "\n",
    "s_list = list(set(nums))\n",
    "max_el = [0,0]\n",
    "\n",
    "for s in s_list:\n",
    "    n = nums.count(s)\n",
    "    if (n>max_el[0]):\n",
    "        max_el[0]=n\n",
    "        max_el[1]=s\n",
    "\n",
    "print(f'Element {max_el[1]} occures {max_el[0]} times')"
   ]
  },
  {
   "cell_type": "markdown",
   "id": "c6019643",
   "metadata": {},
   "source": [
    "##\n",
    "***\n"
   ]
  }
 ],
 "metadata": {
  "kernelspec": {
   "display_name": ".venv",
   "language": "python",
   "name": "python3"
  },
  "language_info": {
   "codemirror_mode": {
    "name": "ipython",
    "version": 3
   },
   "file_extension": ".py",
   "mimetype": "text/x-python",
   "name": "python",
   "nbconvert_exporter": "python",
   "pygments_lexer": "ipython3",
   "version": "3.11.12"
  }
 },
 "nbformat": 4,
 "nbformat_minor": 5
}
