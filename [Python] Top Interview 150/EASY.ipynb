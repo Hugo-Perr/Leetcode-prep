{
 "cells": [
  {
   "cell_type": "markdown",
   "id": "9afb3e00",
   "metadata": {},
   "source": [
    "# Top Interview 150 - EASY problems\n",
    "Must-do List for Interview Prep\n",
    "https://leetcode.com/studyplan/top-interview-150/"
   ]
  },
  {
   "cell_type": "code",
   "execution_count": null,
   "id": "9b70b1e3",
   "metadata": {},
   "outputs": [],
   "source": [
    "# Text for Leetcode publication \n",
    "\n",
    "# [Top Interview 150]"
   ]
  },
  {
   "cell_type": "markdown",
   "id": "83316eea",
   "metadata": {},
   "source": [
    "# \n",
    "***\n"
   ]
  },
  {
   "cell_type": "code",
   "execution_count": 41,
   "id": "6c552a5f",
   "metadata": {},
   "outputs": [],
   "source": [
    "from typing import List"
   ]
  },
  {
   "cell_type": "markdown",
   "id": "51448ea1",
   "metadata": {},
   "source": [
    "# EASY  \n",
    "   "
   ]
  },
  {
   "cell_type": "code",
   "execution_count": 1,
   "id": "abef7613",
   "metadata": {},
   "outputs": [
    {
     "data": {
      "text/plain": [
       "[1, 2, 2, 3, 5, 6]"
      ]
     },
     "execution_count": 1,
     "metadata": {},
     "output_type": "execute_result"
    }
   ],
   "source": [
    "# 88. Merge Sorted Array\n",
    "\n",
    "# Test input\n",
    "nums1 = [1, 2, 3, 0, 0, 0]\n",
    "m = 3\n",
    "nums2 = [2, 5, 6]\n",
    "n = 3\n",
    "\n",
    "# Solution\n",
    "nums1[m:] = nums2[:] \n",
    "nums1.sort()\n",
    "nums1"
   ]
  },
  {
   "cell_type": "code",
   "execution_count": 2,
   "id": "5f52bada",
   "metadata": {},
   "outputs": [
    {
     "name": "stdout",
     "output_type": "stream",
     "text": [
      "Return : 5\n",
      "List nums : [0, 1, 3, 0, 4, 101, 101, 101]\n"
     ]
    }
   ],
   "source": [
    "# 27. Remove Element\n",
    "\n",
    "nums=[0,1,2,2,3,0,4,2]\n",
    "val=2\n",
    "\n",
    "i=0\n",
    "n=len(nums)\n",
    "countr = n\n",
    "\n",
    "while (i<=n-1):\n",
    "    if ((nums[i]==val)&(i<n-1)):\n",
    "        nums[i:] = nums[i+1:] + [101]\n",
    "        i=i-1\n",
    "        countr-=1\n",
    "    if ((nums[i]==val)&(i==n-1)):\n",
    "         nums[i] = [101]\n",
    "         i+=1\n",
    "         countr-=1\n",
    "    else:\n",
    "        i+=1\n",
    "\n",
    "print('Return :', countr)\n",
    "print('List nums :', nums)"
   ]
  },
  {
   "cell_type": "code",
   "execution_count": null,
   "id": "3d2d8dd2",
   "metadata": {},
   "outputs": [
    {
     "name": "stdout",
     "output_type": "stream",
     "text": [
      "nums :  [0, 0, 1, 1, 1, 2, 2, 3, 3, 4]\n",
      "k= 5\n",
      "nums :  [0, 1, 2, 3, 4, 2, 2, 3, 3, 4]\n"
     ]
    }
   ],
   "source": [
    "# 26. Remove Duplicates from Sorted Array\n",
    "\n",
    "\n",
    "def solution1(nums):\n",
    "    # Runtime: 66ms\n",
    "    # Memory: 19.8 MB\n",
    "    n = len(nums)\n",
    "    countr = n \n",
    "    i=1\n",
    "    if (n>1):\n",
    "        while (i<n): # max size of nums\n",
    "            \n",
    "            if ((nums[i] == nums[i-1])&(nums[i]!=101)): # in case of 2 occurences\n",
    "\n",
    "                if (i != n-1):\n",
    "                    nums[i:] = nums[i+1:] + [101]\n",
    "                    countr -= 1\n",
    "                    i-=1\n",
    "                else:\n",
    "                    nums[i] = 101\n",
    "                    countr -= 1\n",
    "            \n",
    "            i+=1\n",
    "    return countr\n",
    "\n",
    "# Runtime: 21ms, Memory:19.4 \n",
    "def solution2(nums):\n",
    "    # Runtime: \n",
    "    # Memory: 1\n",
    "    new = []\n",
    "    c = 0\n",
    "\n",
    "    for i in nums:\n",
    "        if i not in new:\n",
    "            new = new + [i]\n",
    "            c +=1\n",
    "            \n",
    "    nums[:c] = new\n",
    "    nums[c:] = [101]*(len(nums)-c)\n",
    "    return c\n",
    "\n",
    "# Runtime: 3ms, Memory:19.02\n",
    "# Here I replaced \"if i not in list\" by \"if i not in set\" (got from O(n2) to O(1)) \n",
    "# Also, instead of adding element to new list then replacing within nums, I change them on the way \n",
    "def solution3(nums):\n",
    "        new_set = set()\n",
    "        new = []\n",
    "\n",
    "        for i in nums:\n",
    "            if i not in new_set:\n",
    "                new_set.add(i)\n",
    "                new.append(i)\n",
    "\n",
    "        nums[:len(new)]=new\n",
    "        return len(new)\n",
    "\n",
    "\n",
    "nums=[0,0,1,1,1,2,2,3,3,4]\n",
    "print('nums : ', nums)\n",
    "k = solution3(nums)\n",
    "print('k=', k)\n",
    "print('nums : ', nums)"
   ]
  },
  {
   "cell_type": "code",
   "execution_count": null,
   "id": "6723cdbe",
   "metadata": {},
   "outputs": [
    {
     "name": "stdout",
     "output_type": "stream",
     "text": [
      "[1, 1, 1, 2, 2, 3]\n",
      "5\n",
      "[1, 1, 2, 2, 3]\n"
     ]
    }
   ],
   "source": [
    "# 80. Remove Duplicates from Sorted Array II\n",
    "\n",
    "def solution1(nums):\n",
    "    new_set = set()\n",
    "    new = []\n",
    "    temp = None\n",
    "\n",
    "    for i in nums:\n",
    "        if (i not in new_set):\n",
    "            new_set.add(i)\n",
    "            new.append(i)\n",
    "            temp=i\n",
    "        else:\n",
    "             if(i==temp):\n",
    "                new_set.add(i)\n",
    "                new.append(i)\n",
    "                temp=None\n",
    "    k = len(new)\n",
    "    nums[:k]=new\n",
    "    nums[k:]=[]\n",
    "\n",
    "    return k\n",
    "\n",
    "nums=[1,1,1,2,2,3]\n",
    "print(nums)\n",
    "k = solution1(nums)\n",
    "print(k)\n",
    "print(nums)\n"
   ]
  },
  {
   "cell_type": "code",
   "execution_count": null,
   "id": "65879231",
   "metadata": {},
   "outputs": [
    {
     "name": "stdout",
     "output_type": "stream",
     "text": [
      "Element 3 occures 2 times\n"
     ]
    }
   ],
   "source": [
    "# 169. Majority Element\n",
    "\n",
    "nums = [3,2,3]\n",
    "\n",
    "s_list = list(set(nums))\n",
    "max_el = [0,0]\n",
    "\n",
    "for s in s_list:\n",
    "    n = nums.count(s)\n",
    "    if (n>max_el[0]):\n",
    "        max_el[0]=n\n",
    "        max_el[1]=s\n",
    "\n",
    "print(f'Element {max_el[1]} occures {max_el[0]} times')"
   ]
  },
  {
   "cell_type": "markdown",
   "id": "83df35fa",
   "metadata": {},
   "source": [
    "### 121. Best Time to Buy and Sell Stock\n"
   ]
  },
  {
   "cell_type": "code",
   "execution_count": null,
   "id": "897c85f3",
   "metadata": {},
   "outputs": [
    {
     "name": "stdout",
     "output_type": "stream",
     "text": [
      "ok\n"
     ]
    }
   ],
   "source": [
    "my_list = [7,1,5,3,6,4]\n",
    "r= 0\n",
    "\n",
    "is_sorted_desc = all(a >= b for a, b in zip(my_list, my_list[1:]))\n",
    "if is_sorted_desc:\n",
    "    r = 0\n",
    "else:\n",
    "    "
   ]
  },
  {
   "cell_type": "code",
   "execution_count": null,
   "id": "b6f69e86",
   "metadata": {},
   "outputs": [
    {
     "name": "stdout",
     "output_type": "stream",
     "text": [
      "7 1 Profit = -6\n",
      "7 5 Profit = -2\n",
      "7 3 Profit = -4\n",
      "7 6 Profit = -1\n",
      "7 4 Profit = -3\n",
      "1 5 Profit = 4\n",
      "1 3 Profit = 2\n",
      "1 6 Profit = 5\n",
      "1 4 Profit = 3\n",
      "5 3 Profit = -2\n",
      "5 6 Profit = 1\n",
      "5 4 Profit = -1\n",
      "3 6 Profit = 3\n",
      "3 4 Profit = 1\n",
      "6 4 Profit = -2\n"
     ]
    },
    {
     "data": {
      "text/plain": [
       "5"
      ]
     },
     "execution_count": 13,
     "metadata": {},
     "output_type": "execute_result"
    }
   ],
   "source": [
    "prices = [7,1,5,3,6,4]\n",
    "\n",
    "max_profit = 0\n",
    "for i in range(0, len(prices)):\n",
    "    for j in range(0, len(prices)):\n",
    "        if (i<j):\n",
    "            profit=prices[j]-prices[i]\n",
    "            #print(prices[i],prices[j], 'Profit =', profit)\n",
    "            if (profit>max_profit):\n",
    "                max_profit=profit\n",
    "\n",
    "max_profit"
   ]
  },
  {
   "cell_type": "code",
   "execution_count": 17,
   "id": "27336a98",
   "metadata": {},
   "outputs": [
    {
     "name": "stdout",
     "output_type": "stream",
     "text": [
      "price= 7 min_price = inf  / Profit = -2\n",
      "min_price = 7 max_profit= 0\n",
      "price= 1 min_price = 7  / Profit = -2\n",
      "min_price = 1 max_profit= 0\n",
      "price= 5 min_price = 1  / Profit = -2\n",
      "min_price = 1 max_profit= 4\n",
      "price= 3 min_price = 1  / Profit = -2\n",
      "min_price = 1 max_profit= 4\n",
      "price= 6 min_price = 1  / Profit = -2\n",
      "min_price = 1 max_profit= 5\n",
      "price= 4 min_price = 1  / Profit = -2\n",
      "min_price = 1 max_profit= 5\n"
     ]
    },
    {
     "data": {
      "text/plain": [
       "5"
      ]
     },
     "execution_count": 17,
     "metadata": {},
     "output_type": "execute_result"
    }
   ],
   "source": [
    "prices = [7,1,5,3,6,4]\n",
    "\n",
    "max_profit = 0\n",
    "min_price = float('inf')\n",
    "for price in prices:\n",
    "    print('price=',price,'min_price =', min_price,' / Profit =', profit)\n",
    "    min_price = min(min_price, price)\n",
    "    \n",
    "    max_profit = max(max_profit, price - min_price)\n",
    "    print('min_price =', min_price, 'max_profit=',max_profit)\n",
    "\n",
    "max_profit"
   ]
  },
  {
   "cell_type": "code",
   "execution_count": 19,
   "id": "56f9f107",
   "metadata": {},
   "outputs": [
    {
     "name": "stdout",
     "output_type": "stream",
     "text": [
      "price= 7 min_price = inf  / Profit = -2\n",
      "price= 1 min_price = 7  / Profit = -2\n",
      "price= 5 min_price = 1  / Profit = -2\n",
      "price= 3 min_price = 1  / Profit = -2\n",
      "price= 6 min_price = 1  / Profit = -2\n",
      "price= 4 min_price = 1  / Profit = -2\n"
     ]
    },
    {
     "data": {
      "text/plain": [
       "5"
      ]
     },
     "execution_count": 19,
     "metadata": {},
     "output_type": "execute_result"
    }
   ],
   "source": [
    "prices = [7,1,5,3,6,4]\n",
    "max_profit = 0\n",
    "min_price = float('inf')\n",
    "\n",
    "for price in prices:\n",
    "    print('price=',price,'min_price =', min_price,' / Profit =', profit)\n",
    "    if price < min_price:\n",
    "        min_price = price\n",
    "    elif price - min_price > max_profit:\n",
    "        max_profit = price - min_price\n",
    "        \n",
    "max_profit"
   ]
  },
  {
   "cell_type": "markdown",
   "id": "d830f832",
   "metadata": {},
   "source": [
    "## 13. Roman to integer"
   ]
  },
  {
   "cell_type": "code",
   "execution_count": 53,
   "id": "0be20aff",
   "metadata": {},
   "outputs": [
    {
     "name": "stdout",
     "output_type": "stream",
     "text": [
      "[1000, 100, 1000, 10, 100, 1, 5]\n"
     ]
    },
    {
     "data": {
      "text/plain": [
       "0"
      ]
     },
     "execution_count": 53,
     "metadata": {},
     "output_type": "execute_result"
    }
   ],
   "source": [
    "s=\"MCMXCIV\"\n",
    "\n",
    "d = {\n",
    "    'I':1,\n",
    "    'V':5,\n",
    "    'X':10,\n",
    "    'L':50,\n",
    "    'C':100,\n",
    "    'D':500,\n",
    "    'M':1000}\n",
    "\n",
    "l_int = []\n",
    "for roman in s:\n",
    "    integer = d.get(roman)\n",
    "    l_int+=[integer]\n",
    "\n",
    "final_int=0\n",
    "#for i in l_int:\n",
    "    \n",
    "\n",
    "print(l_int)\n",
    "final_int"
   ]
  },
  {
   "cell_type": "code",
   "execution_count": null,
   "id": "4869a68e",
   "metadata": {},
   "outputs": [
    {
     "data": {
      "text/plain": [
       "3"
      ]
     },
     "execution_count": 71,
     "metadata": {},
     "output_type": "execute_result"
    }
   ],
   "source": [
    "# Solution 1 \n",
    "# Works but not optimized \n",
    "\n",
    "s=\"MCMXCIV\"\n",
    "s=\"III\"\n",
    "\n",
    "d = {\n",
    "    'I':1,\n",
    "    'V':5,\n",
    "    'X':10,\n",
    "    'L':50,\n",
    "    'C':100,\n",
    "    'D':500,\n",
    "    'M':1000}\n",
    "\n",
    "\n",
    "if(len(s)==0): \n",
    "    r = 0\n",
    "else:\n",
    "\n",
    "    l_int = [d.get(s[-1])]\n",
    "    r = l_int[0]\n",
    "\n",
    "    i = len(s)-2\n",
    "    while i>= 0:\n",
    "        previous_int_i = d.get(s[i])\n",
    "        l_int = l_int + [previous_int_i]\n",
    "\n",
    "        if (l_int[-1]<l_int[-2]):\n",
    "            r = r - l_int[-1]\n",
    "        else:\n",
    "            r = r + l_int[-1]\n",
    "        i-=1\n",
    "\n",
    "r"
   ]
  },
  {
   "cell_type": "code",
   "execution_count": 73,
   "id": "bcde0ebf",
   "metadata": {},
   "outputs": [
    {
     "data": {
      "text/plain": [
       "1994"
      ]
     },
     "execution_count": 73,
     "metadata": {},
     "output_type": "execute_result"
    }
   ],
   "source": [
    "# Solution 2\n",
    "#  optimized \n",
    "\n",
    "s=\"MCMXCIV\"\n",
    "d = {\n",
    "    'I':1,\n",
    "    'V':5,\n",
    "    'X':10,\n",
    "    'L':50,\n",
    "    'C':100,\n",
    "    'D':500,\n",
    "    'M':1000\n",
    "}\n",
    "n = len(s)\n",
    "if(n==0): \n",
    "    r = 0\n",
    "\n",
    "total = d[s[-1]]\n",
    "prev_value = total\n",
    "\n",
    "for i in range(n - 2, -1, -1):\n",
    "    i_value = d[s[i]]\n",
    "\n",
    "    if i_value < prev_value:\n",
    "        total = total - i_value\n",
    "    else:\n",
    "        total = total + i_value\n",
    "    prev_value = i_value\n",
    "    \n",
    "total"
   ]
  },
  {
   "cell_type": "code",
   "execution_count": null,
   "id": "241954f4",
   "metadata": {},
   "outputs": [],
   "source": []
  }
 ],
 "metadata": {
  "kernelspec": {
   "display_name": ".venv",
   "language": "python",
   "name": "python3"
  },
  "language_info": {
   "codemirror_mode": {
    "name": "ipython",
    "version": 3
   },
   "file_extension": ".py",
   "mimetype": "text/x-python",
   "name": "python",
   "nbconvert_exporter": "python",
   "pygments_lexer": "ipython3",
   "version": "3.11.12"
  }
 },
 "nbformat": 4,
 "nbformat_minor": 5
}
