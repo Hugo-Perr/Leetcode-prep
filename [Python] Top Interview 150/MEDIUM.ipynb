{
 "cells": [
  {
   "cell_type": "markdown",
   "id": "0731924c",
   "metadata": {},
   "source": [
    "# Top Interview 150 - EASY problems\n",
    "Must-do List for Interview Prep\n",
    "https://leetcode.com/studyplan/top-interview-150/\n",
    "\n",
    "### [Hugo PERIER]"
   ]
  },
  {
   "cell_type": "markdown",
   "id": "6a7dd387",
   "metadata": {},
   "source": [
    "# \n",
    "***"
   ]
  },
  {
   "cell_type": "code",
   "execution_count": null,
   "id": "dcac9cb3",
   "metadata": {},
   "outputs": [],
   "source": [
    "# 189. Rotate Array \n",
    "nums = [1,2,3,4,5,6,7]\n",
    "k = 3\n",
    "\n",
    "n = len(nums)\n",
    "k = k%n # k modulo n : le reste de la divisition de k par n (utile si k>n sinon sela renvoie k)\n",
    "nums[:] = nums[n-k:] + nums[0:n-k] \n",
    "nums"
   ]
  },
  {
   "cell_type": "code",
   "execution_count": null,
   "id": "b9ae1c25",
   "metadata": {},
   "outputs": [
    {
     "name": "stdout",
     "output_type": "stream",
     "text": [
      "Buy at 1£\n",
      "Sell at 2£ (profit 1£) ---- BALANCE: 1£\n",
      "Buy at 2£\n",
      "Sell at 3£ (profit 1£) ---- BALANCE: 2£\n",
      "Buy at 3£\n",
      "Sell at 4£ (profit 1£) ---- BALANCE: 3£\n",
      "Buy at 4£\n",
      "Sell at 5£ (profit 1£) ---- BALANCE: 4£\n"
     ]
    },
    {
     "data": {
      "text/plain": [
       "4"
      ]
     },
     "execution_count": 33,
     "metadata": {},
     "output_type": "execute_result"
    }
   ],
   "source": [
    "# 122. Best Time to Buy and Sell Stock II\n",
    "\n",
    "\n",
    "prices = [7,1,5,3,6,4] #7\n",
    "prices = [7,6,4,3,1] #0\n",
    "prices = [1,2,3,4,5] #4\n",
    "\n",
    "i=0\n",
    "bought=None\n",
    "balance=0\n",
    "\n",
    "while i<(len(prices)):\n",
    "    m = max(prices[i+1:i+2]+[0])\n",
    "\n",
    "    if (bought != None): #if stock bought\n",
    "        temp_profit = prices[i] - bought\n",
    "        if(temp_profit>0):\n",
    "            balance += temp_profit\n",
    "            print(f\"Sell at {prices[i]}£ (profit {temp_profit}£) ---- BALANCE: {balance}£\")\n",
    "            bought=None\n",
    "    \n",
    "    if (bought == None):# if no buy on hold\n",
    "        if (prices[i]<m):# and if we can make profit in the futur\n",
    "            bought = prices[i]\n",
    "            print(f\"Buy at {bought}£\")\n",
    "    i+=1\n",
    "\n",
    "balance"
   ]
  }
 ],
 "metadata": {
  "kernelspec": {
   "display_name": ".venv",
   "language": "python",
   "name": "python3"
  },
  "language_info": {
   "codemirror_mode": {
    "name": "ipython",
    "version": 3
   },
   "file_extension": ".py",
   "mimetype": "text/x-python",
   "name": "python",
   "nbconvert_exporter": "python",
   "pygments_lexer": "ipython3",
   "version": "3.11.12"
  }
 },
 "nbformat": 4,
 "nbformat_minor": 5
}
