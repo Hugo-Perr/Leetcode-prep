{
 "cells": [
  {
   "cell_type": "markdown",
   "id": "0731924c",
   "metadata": {},
   "source": [
    "# Top Interview 150 - EASY problems\n",
    "Must-do List for Interview Prep\n",
    "https://leetcode.com/studyplan/top-interview-150/\n",
    "\n",
    "### [Hugo PERIER]"
   ]
  },
  {
   "cell_type": "markdown",
   "id": "6a7dd387",
   "metadata": {},
   "source": [
    "# \n",
    "***"
   ]
  },
  {
   "cell_type": "code",
   "execution_count": null,
   "id": "dcac9cb3",
   "metadata": {},
   "outputs": [],
   "source": [
    "# 189. Rotate Array \n",
    "nums = [1,2,3,4,5,6,7]\n",
    "k = 3\n",
    "\n",
    "n = len(nums)\n",
    "k = k%n # k modulo n : le reste de la divisition de k par n (utile si k>n sinon sela renvoie k)\n",
    "nums[:] = nums[n-k:] + nums[0:n-k] \n",
    "nums"
   ]
  },
  {
   "cell_type": "code",
   "execution_count": 34,
   "id": "b9ae1c25",
   "metadata": {},
   "outputs": [
    {
     "data": {
      "text/plain": [
       "4"
      ]
     },
     "execution_count": 34,
     "metadata": {},
     "output_type": "execute_result"
    }
   ],
   "source": [
    "# 122. Best Time to Buy and Sell Stock II\n",
    "\n",
    "\n",
    "prices = [7,1,5,3,6,4] #7\n",
    "prices = [7,6,4,3,1] #0\n",
    "prices = [1,2,3,4,5] #4\n",
    "\n",
    "i=0\n",
    "bought=None\n",
    "balance=0\n",
    "\n",
    "while i<(len(prices)):\n",
    "    m = max(prices[i+1:i+2]+[0])\n",
    "\n",
    "    if (bought != None): #if stock bought\n",
    "        temp_profit = prices[i] - bought\n",
    "        if(temp_profit>0):\n",
    "            balance += temp_profit\n",
    "            #print(f\"Sell at {prices[i]}£ (profit {temp_profit}£) ---- BALANCE: {balance}£\")\n",
    "            bought=None\n",
    "    \n",
    "    if (bought == None):# if no buy on hold\n",
    "        if (prices[i]<m):# and if we can make profit in the futur\n",
    "            bought = prices[i]\n",
    "            #print(f\"Buy at {bought}£\")\n",
    "    i+=1\n",
    "\n",
    "balance"
   ]
  },
  {
   "cell_type": "code",
   "execution_count": 88,
   "id": "0fa751ec",
   "metadata": {},
   "outputs": [
    {
     "name": "stdout",
     "output_type": "stream",
     "text": [
      "i= 0\n",
      "Jump from 0 to 2\n",
      "Jump from 2 to 8\n",
      "True\n"
     ]
    }
   ],
   "source": [
    "# 55. Jump Game\n",
    "\n",
    "#nums = [0]#[2,0,0]\n",
    "#nums = [2,5,0,0]\n",
    "nums = [3,0,8,2,0,0,1]\n",
    "\n",
    "i=0\n",
    "jumping=True\n",
    "n=len(nums)\n",
    "\n",
    "while (i<len(nums)) & jumping:\n",
    "    print('i=', i)\n",
    "    if(nums[i]==0):\n",
    "        jumping=False\n",
    "    else:\n",
    "        m = max(nums[i+1:i+nums[i]])\n",
    "        if (nums[i]==m):\n",
    "            print(f\"Jump from {i} to {i+nums[i]}\")\n",
    "            i+=nums[i]\n",
    "\n",
    "        if ((nums[i+1]==0) & (nums[i]>1)):\n",
    "            print(f\"Jump from {i} to {i+2}\")\n",
    "            print(f\"Jump from {i+2} to {nums[i+2]}\")\n",
    "            i+=nums[i+2]\n",
    "    \n",
    "        else:\n",
    "            \n",
    "            i+=1\n",
    "\n",
    "if (i>=n-1):\n",
    "    print(True)\n",
    "else:\n",
    "    print(False)\n"
   ]
  },
  {
   "cell_type": "code",
   "execution_count": null,
   "id": "f5308316",
   "metadata": {},
   "outputs": [
    {
     "name": "stdout",
     "output_type": "stream",
     "text": [
      "Initial goal: 6\n",
      "5 0\n",
      "4 0\n",
      "3 2\n",
      "2 8\n",
      "Change Goal from 6 to 2\n",
      "1 0\n",
      "0 3\n",
      "Change Goal from 2 to 0\n"
     ]
    },
    {
     "data": {
      "text/plain": [
       "0"
      ]
     },
     "execution_count": 97,
     "metadata": {},
     "output_type": "execute_result"
    }
   ],
   "source": [
    "nums = [3,0,8,2,0,0,1]\n",
    "goal = len(nums) - 1\n",
    "print('Initial goal:', goal)\n",
    "\n",
    "for i in range(len(nums) - 2, -1, -1):\n",
    "    print(i, nums[i])\n",
    "    if i + nums[i] >= goal:\n",
    "        print(\"Change Goal from\", goal, \"to\", i)\n",
    "        goal = i\n",
    "\n",
    "goal # if ==0 : possible to jump to the end!"
   ]
  },
  {
   "cell_type": "code",
   "execution_count": 130,
   "id": "5e1dd888",
   "metadata": {},
   "outputs": [
    {
     "name": "stdout",
     "output_type": "stream",
     "text": [
      "Initial goal: 7\n",
      "6 0 counter= 7\n",
      "5 0 counter= 7\n",
      "4 0 counter= 7\n",
      "3 5 counter= 7\n",
      "Change Goal from 7 to 3\n",
      "2 0 counter= 2\n",
      "1 1 counter= 2\n",
      "0 4 counter= 2\n",
      "Change Goal from 3 to 0\n"
     ]
    },
    {
     "data": {
      "text/plain": [
       "2"
      ]
     },
     "execution_count": 130,
     "metadata": {},
     "output_type": "execute_result"
    }
   ],
   "source": [
    "## Jump II\n",
    "\n",
    "nums = [2,3,0,1,4]\n",
    "\n",
    "nums = [4,1,0,5,0,0,0,2]\n",
    " #      0 1 2 3 4 5 6 7\n",
    " \n",
    "goal = len(nums) - 1\n",
    "print('Initial goal:', goal)\n",
    "counter = goal\n",
    "\n",
    "for i in range(len(nums) - 2, -1, -1):\n",
    "    print(i, nums[i], 'counter=',counter)\n",
    "    if i + nums[i] >= goal:\n",
    "        \n",
    "        print(\"Change Goal from\", goal, \"to\", i)\n",
    "        goal = i\n",
    "        if (goal!=0): \n",
    "            counter = counter - nums[i]\n",
    "\n",
    "counter"
   ]
  },
  {
   "cell_type": "code",
   "execution_count": 135,
   "id": "5b783252",
   "metadata": {},
   "outputs": [
    {
     "name": "stdout",
     "output_type": "stream",
     "text": [
      "Initial goal: 6\n",
      "5 1 counter= 6\n",
      "Change Goal from 6 to 5\n",
      "4 1 counter= 6\n",
      "Change Goal from 5 to 4\n",
      "3 3 counter= 6\n",
      "Change Goal from 4 to 3\n",
      "2 1 counter= 6\n",
      "Change Goal from 3 to 2\n",
      "1 1 counter= 6\n",
      "Change Goal from 2 to 1\n",
      "0 4 counter= 6\n",
      "Change Goal from 1 to 0\n"
     ]
    },
    {
     "data": {
      "text/plain": [
       "6"
      ]
     },
     "execution_count": 135,
     "metadata": {},
     "output_type": "execute_result"
    }
   ],
   "source": [
    "nums= [4,1,1,3,1,1,1]\n",
    "\n",
    "goal = len(nums) - 1\n",
    "print('Initial goal:', goal)\n",
    "counter = goal\n",
    "\n",
    "for i in range(len(nums) - 2, -1, -1):\n",
    "    print(i, nums[i], 'counter=',counter)\n",
    "    if i + nums[i] >= goal:\n",
    "        print(\"Change Goal from\", goal, \"to\", i)\n",
    "        goal = i\n",
    "\n",
    "\n",
    "counter"
   ]
  }
 ],
 "metadata": {
  "kernelspec": {
   "display_name": ".venv",
   "language": "python",
   "name": "python3"
  },
  "language_info": {
   "codemirror_mode": {
    "name": "ipython",
    "version": 3
   },
   "file_extension": ".py",
   "mimetype": "text/x-python",
   "name": "python",
   "nbconvert_exporter": "python",
   "pygments_lexer": "ipython3",
   "version": "3.11.12"
  }
 },
 "nbformat": 4,
 "nbformat_minor": 5
}
