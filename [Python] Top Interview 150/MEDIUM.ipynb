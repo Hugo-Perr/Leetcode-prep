{
 "cells": [
  {
   "cell_type": "markdown",
   "id": "0731924c",
   "metadata": {},
   "source": [
    "# Top Interview 150 - EASY problems\n",
    "Must-do List for Interview Prep\n",
    "https://leetcode.com/studyplan/top-interview-150/\n",
    "\n",
    "### [Hugo PERIER]"
   ]
  },
  {
   "cell_type": "markdown",
   "id": "6a7dd387",
   "metadata": {},
   "source": [
    "# \n",
    "***"
   ]
  },
  {
   "cell_type": "code",
   "execution_count": null,
   "id": "dcac9cb3",
   "metadata": {},
   "outputs": [],
   "source": [
    "# 189. Rotate Array \n",
    "nums = [1,2,3,4,5,6,7]\n",
    "k = 3\n",
    "\n",
    "n = len(nums)\n",
    "k = k%n # k modulo n : le reste de la divisition de k par n (utile si k>n sinon sela renvoie k)\n",
    "nums[:] = nums[n-k:] + nums[0:n-k] \n",
    "nums"
   ]
  }
 ],
 "metadata": {
  "kernelspec": {
   "display_name": ".venv",
   "language": "python",
   "name": "python3"
  },
  "language_info": {
   "name": "python",
   "version": "3.11.12"
  }
 },
 "nbformat": 4,
 "nbformat_minor": 5
}
